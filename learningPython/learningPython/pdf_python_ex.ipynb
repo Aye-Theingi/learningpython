{
 "cells": [
  {
   "cell_type": "code",
   "execution_count": 66,
   "metadata": {},
   "outputs": [],
   "source": [
    "import PyPDF2"
   ]
  },
  {
   "cell_type": "code",
   "execution_count": 67,
   "metadata": {},
   "outputs": [],
   "source": [
    "f=open('SMSnumberformat.pdf','rb')"
   ]
  },
  {
   "cell_type": "code",
   "execution_count": 68,
   "metadata": {},
   "outputs": [],
   "source": [
    "pdf=PyPDF2.PdfFileReader(f)"
   ]
  },
  {
   "cell_type": "code",
   "execution_count": 69,
   "metadata": {},
   "outputs": [
    {
     "data": {
      "text/plain": [
       "<PyPDF2.pdf.PdfFileReader at 0x7f820f820c88>"
      ]
     },
     "execution_count": 69,
     "metadata": {},
     "output_type": "execute_result"
    }
   ],
   "source": [
    "pdf"
   ]
  },
  {
   "cell_type": "code",
   "execution_count": 70,
   "metadata": {},
   "outputs": [
    {
     "data": {
      "text/plain": [
       "1"
      ]
     },
     "execution_count": 70,
     "metadata": {},
     "output_type": "execute_result"
    }
   ],
   "source": [
    "pdf.numPages"
   ]
  },
  {
   "cell_type": "code",
   "execution_count": 71,
   "metadata": {},
   "outputs": [],
   "source": [
    "import re"
   ]
  },
  {
   "cell_type": "code",
   "execution_count": 122,
   "metadata": {},
   "outputs": [],
   "source": [
    "pattern=r'\\d{3}'"
   ]
  },
  {
   "cell_type": "code",
   "execution_count": 123,
   "metadata": {},
   "outputs": [],
   "source": [
    "all_text=''\n",
    "for num in range(pdf.numPages):\n",
    "    page=pdf.getPage(num)\n",
    "    page_text=page.extractText()\n",
    "    all_text= all_text+' '+page_text\n"
   ]
  },
  {
   "cell_type": "code",
   "execution_count": 124,
   "metadata": {},
   "outputs": [
    {
     "data": {
      "text/plain": [
       "\" E.164 Phone Number Formatting\\n \\n1.\\n \\nA + (plus) sign\\n \\n2.\\n \\nInternational Country Calling code\\n \\n\\n \\nG\\net \\nCountry Code \\nCl\\nick Here\\n \\n3.\\n \\nLocal Area code\\n \\n4.\\n \\nLocal Phone number\\n \\n\\n-\\nbased number in standard local formatting:\\n \\n(415) 555\\n-\\n2671\\n \\n \\n\\n \\n+14155552671\\n \\n \\nDialing Mobile Phone Numbers\\n \\nIn a number of countries internationally, local dialing may require the addition of a '0' in \\nfront of the subscriber number. With E.164 formatting, this '0' must usually be removed.\\n \\n\\n-\\nbased number in standard local formatting:\\n \\n020 71\\n83 8750\\n \\n \\n\\n \\n+442071838750\\n \\n \\nNotice\\n: When calling a mobile phone from Mexico, E.164 formatting requires a\\n \\n'1' be \\nadded\\n \\nafter\\nthe country code.\\n \\n \\nFor example, a local wireless number in Mexico City\\n \\n55 1234 1234\\n \\nwould become\\n \\n+52 1 \\n55 1234 1234\\n \\nwhen using\\n \\nE.164 formatting. This call will not be completed successfully \\nif missing the added '1'.\\n \\n\""
      ]
     },
     "execution_count": 124,
     "metadata": {},
     "output_type": "execute_result"
    }
   ],
   "source": [
    "all_text"
   ]
  },
  {
   "cell_type": "code",
   "execution_count": 93,
   "metadata": {},
   "outputs": [
    {
     "name": "stdout",
     "output_type": "stream",
     "text": [
      "<re.Match object; span=(3, 6), match='164'>\n",
      "<re.Match object; span=(233, 236), match='415'>\n",
      "<re.Match object; span=(238, 241), match='555'>\n",
      "<re.Match object; span=(244, 247), match='267'>\n",
      "<re.Match object; span=(257, 260), match='141'>\n",
      "<re.Match object; span=(260, 263), match='555'>\n",
      "<re.Match object; span=(263, 266), match='526'>\n",
      "<re.Match object; span=(437, 440), match='164'>\n",
      "<re.Match object; span=(537, 540), match='020'>\n",
      "<re.Match object; span=(547, 550), match='875'>\n",
      "<re.Match object; span=(560, 563), match='442'>\n",
      "<re.Match object; span=(563, 566), match='071'>\n",
      "<re.Match object; span=(566, 569), match='838'>\n",
      "<re.Match object; span=(569, 572), match='750'>\n",
      "<re.Match object; span=(629, 632), match='164'>\n",
      "<re.Match object; span=(758, 761), match='123'>\n",
      "<re.Match object; span=(763, 766), match='123'>\n",
      "<re.Match object; span=(795, 798), match='123'>\n",
      "<re.Match object; span=(800, 803), match='123'>\n",
      "<re.Match object; span=(822, 825), match='164'>\n"
     ]
    }
   ],
   "source": [
    "for match in re.finditer(pattern,all_text):\n",
    "    print(match)"
   ]
  },
  {
   "cell_type": "code",
   "execution_count": 125,
   "metadata": {},
   "outputs": [
    {
     "data": {
      "text/plain": [
       "'1234 1234\\n \\nwhen using\\n \\nE.164'"
      ]
     },
     "execution_count": 125,
     "metadata": {},
     "output_type": "execute_result"
    }
   ],
   "source": [
    "all_text[795:825]"
   ]
  },
  {
   "cell_type": "code",
   "execution_count": 156,
   "metadata": {},
   "outputs": [],
   "source": [
    "pattern=r'\\d{2} \\d{4} \\d{4}'"
   ]
  },
  {
   "cell_type": "code",
   "execution_count": 157,
   "metadata": {},
   "outputs": [],
   "source": [
    "all_text=''\n",
    "for num in range(pdf.numPages):\n",
    "    page=pdf.getPage(num)\n",
    "    page_text=page.extractText()\n",
    "all_text= all_text+''+page_text\n"
   ]
  },
  {
   "cell_type": "code",
   "execution_count": 158,
   "metadata": {},
   "outputs": [
    {
     "data": {
      "text/plain": [
       "\"E.164 Phone Number Formatting\\n \\n1.\\n \\nA + (plus) sign\\n \\n2.\\n \\nInternational Country Calling code\\n \\n\\n \\nG\\net \\nCountry Code \\nCl\\nick Here\\n \\n3.\\n \\nLocal Area code\\n \\n4.\\n \\nLocal Phone number\\n \\n\\n-\\nbased number in standard local formatting:\\n \\n(415) 555\\n-\\n2671\\n \\n \\n\\n \\n+14155552671\\n \\n \\nDialing Mobile Phone Numbers\\n \\nIn a number of countries internationally, local dialing may require the addition of a '0' in \\nfront of the subscriber number. With E.164 formatting, this '0' must usually be removed.\\n \\n\\n-\\nbased number in standard local formatting:\\n \\n020 71\\n83 8750\\n \\n \\n\\n \\n+442071838750\\n \\n \\nNotice\\n: When calling a mobile phone from Mexico, E.164 formatting requires a\\n \\n'1' be \\nadded\\n \\nafter\\nthe country code.\\n \\n \\nFor example, a local wireless number in Mexico City\\n \\n55 1234 1234\\n \\nwould become\\n \\n+52 1 \\n55 1234 1234\\n \\nwhen using\\n \\nE.164 formatting. This call will not be completed successfully \\nif missing the added '1'.\\n \\n\""
      ]
     },
     "execution_count": 158,
     "metadata": {},
     "output_type": "execute_result"
    }
   ],
   "source": [
    "all_text"
   ]
  },
  {
   "cell_type": "code",
   "execution_count": 159,
   "metadata": {},
   "outputs": [
    {
     "name": "stdout",
     "output_type": "stream",
     "text": [
      "<re.Match object; span=(754, 766), match='55 1234 1234'>\n",
      "<re.Match object; span=(791, 803), match='55 1234 1234'>\n"
     ]
    }
   ],
   "source": [
    "for match in re.finditer(pattern,all_text):\n",
    "    print(match)"
   ]
  },
  {
   "cell_type": "code",
   "execution_count": 161,
   "metadata": {},
   "outputs": [
    {
     "data": {
      "text/plain": [
       "'55 1234 1234'"
      ]
     },
     "execution_count": 161,
     "metadata": {},
     "output_type": "execute_result"
    }
   ],
   "source": [
    "all_text[754:766]"
   ]
  },
  {
   "cell_type": "code",
   "execution_count": null,
   "metadata": {},
   "outputs": [],
   "source": []
  }
 ],
 "metadata": {
  "kernelspec": {
   "display_name": "Python 3",
   "language": "python",
   "name": "python3"
  },
  "language_info": {
   "codemirror_mode": {
    "name": "ipython",
    "version": 3
   },
   "file_extension": ".py",
   "mimetype": "text/x-python",
   "name": "python",
   "nbconvert_exporter": "python",
   "pygments_lexer": "ipython3",
   "version": "3.7.3"
  }
 },
 "nbformat": 4,
 "nbformat_minor": 2
}
